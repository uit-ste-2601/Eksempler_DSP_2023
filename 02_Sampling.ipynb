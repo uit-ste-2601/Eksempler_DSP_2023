{
 "cells": [
  {
   "cell_type": "markdown",
   "metadata": {},
   "source": [
    "# Hvordan foregår sampling?"
   ]
  },
  {
   "cell_type": "code",
   "execution_count": null,
   "metadata": {},
   "outputs": [],
   "source": [
    "%matplotlib widget\n",
    "#%matplotlib notebook\n",
    "import numpy as np\n",
    "import matplotlib.pyplot as plt"
   ]
  },
  {
   "cell_type": "markdown",
   "metadata": {},
   "source": [
    "Et analogt signal kan ikke lages på en digital PC, men vi kan plotte noe som \n",
    "er\n",
    "tilnærmet det samme.\n",
    "\n",
    "Vi kommer her til å plotte funksjonen:\n",
    "$$\n",
    "x(t) =\n",
    "2\\sin(2\\pi f_0 t)\n",
    "$$\n",
    "hvor $f_0 = 0.50$ Hz"
   ]
  },
  {
   "cell_type": "code",
   "execution_count": null,
   "metadata": {},
   "outputs": [],
   "source": [
    "t_min = 0  # start (s)\n",
    "t_max = 4  # slutt (s)\n",
    "f0 = 0.5 # Hz\n",
    "\n",
    "# Lager en \"kontinuerlig tid\"\n",
    "t = np.arange(t_min, t_max, 0.001)  \n",
    "\n",
    "# Beregner x(t)\n",
    "x = 2 * np.sin(2 * np.pi * f0 * t)\n",
    "\n",
    "# Setter opp figuren \n",
    "plt.figure()\n",
    "\n",
    "# Plotter figuren \n",
    "plt.plot(t, x)\n",
    "plt.grid()\n",
    "plt.xlim([0, t_max])\n",
    "plt.xlabel('Tid (s)')\n",
    "plt.ylabel('x(t)')\n",
    "plt.show()\n"
   ]
  },
  {
   "cell_type": "markdown",
   "metadata": {},
   "source": [
    "Nå skal du være A/D omformeren og sample denne funksjonen ut fra grafen (ikke\n",
    "funksjonen).\n",
    "\n",
    "Din samplingsfrekvens er $f_s = 2$ Hz, altså to målinger per\n",
    "sekund. \n",
    "\n",
    "Du kan fylle den målte `x[n]`nedenfor (erstatt `x0, x1, …`), så kan de\n",
    "plottes:"
   ]
  },
  {
   "cell_type": "code",
   "execution_count": null,
   "metadata": {},
   "outputs": [],
   "source": [
    "data = np.array([\n",
    "# n, x \n",
    "[ 0, 0],\n",
    "[ 1, 2],\n",
    "[ 2, 0],\n",
    "[ 3, -2],\n",
    "[ 4, 0],\n",
    "[ 5, 2],\n",
    "[ 6, 0],\n",
    "[ 7, -2]\n",
    "])\n",
    "\n",
    "display(data) # Viser dataen du har tastet inn\n",
    "\n",
    "# Plot den digitale dataen som et stem plot \n",
    "plt.figure()\n",
    "plt.stem(data[:,0],data[:, 1], '--b', basefmt = 'k', use_line_collection = True)\n",
    "plt.grid()\n",
    "plt.xlim([0, data.shape[0] - 0.8])\n",
    "plt.xlabel('Tid (n)')\n",
    "plt.ylabel('x(n)')\n",
    "plt.show()\n",
    "\n"
   ]
  },
  {
   "cell_type": "markdown",
   "metadata": {},
   "source": [
    "Hva skjer om vi forandrer samplingsfrekvensen til $f_s = 3$ Hz?\n",
    "\n",
    "Og hva med $f_s = 1/2$ Hz?\n",
    "\n",
    "## Hva er det egentlig A/D en gir ut?\n",
    "\n",
    "Vi opperer i bineære tall, så det du skrev inn som målinger gis ut av A/D \n",
    "omformeren som sampler seende ut slik (ganger med 100 og convertert til int8)."
   ]
  },
  {
   "cell_type": "code",
   "execution_count": null,
   "metadata": {},
   "outputs": [],
   "source": [
    "xn = data[:,1]\n",
    "\n",
    "xn_int8 = (xn*100).astype(np.int8)\n",
    "for i in xn_int8:\n",
    "    print(i, np.binary_repr(i))\n"
   ]
  },
  {
   "cell_type": "code",
   "execution_count": null,
   "metadata": {},
   "outputs": [],
   "source": []
  }
 ],
 "metadata": {
  "kernelspec": {
   "display_name": "Python 3 (ipykernel)",
   "language": "python",
   "name": "python3"
  },
  "language_info": {
   "codemirror_mode": {
    "name": "ipython",
    "version": 3
   },
   "file_extension": ".py",
   "mimetype": "text/x-python",
   "name": "python",
   "nbconvert_exporter": "python",
   "pygments_lexer": "ipython3"
  }
 },
 "nbformat": 4,
 "nbformat_minor": 4
}
