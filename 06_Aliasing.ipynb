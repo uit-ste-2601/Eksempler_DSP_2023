{
 "cells": [
  {
   "cell_type": "markdown",
   "metadata": {},
   "source": [
    "## Simulating bandpass filtering"
   ]
  },
  {
   "cell_type": "code",
   "execution_count": null,
   "metadata": {},
   "outputs": [],
   "source": [
    "%matplotlib widget \n",
    "import numpy as np\n",
    "import matplotlib.pyplot as plt"
   ]
  },
  {
   "cell_type": "markdown",
   "metadata": {},
   "source": [
    "First we need to make the function we will sample. It will be a linear sum of \n",
    "sines from $f_0$ to $f_1$ with a step of $N$ Hz together with white noise $(\\epsilon)\n",
    "\n",
    "$$\n",
    "x(t) = \\sum_{0}^{\\frac{f_1-f_0}{N}+1} \\frac{1}{n+1} \\sin\\left(2\\pi (f_0+n*N)  t  \\right) + \\epsilon\n",
    "$$\n",
    "\n",
    "These will be inputs to our function."
   ]
  },
  {
   "cell_type": "code",
   "execution_count": null,
   "metadata": {},
   "outputs": [],
   "source": [
    "# The analogue function we will be using is a \n",
    "def signal(t, f0 , f1 , N = 1e2, noise_scale = 1e-2) :\n",
    "    '''\n",
    "    This function generates our signal\n",
    "    \n",
    "    Parameters\n",
    "    ----------\n",
    "    t: float or numpy array of floats\n",
    "        The time point(s) of interest in seconds\n",
    "\n",
    "    f0 : float\n",
    "        The starting frequency in Hz\n",
    "\n",
    "    f1 : float\n",
    "        The ending frequency in Hz\n",
    "\n",
    "    N : int\n",
    "        The spacing of the frequencies in Hz\n",
    "        Default, 1e2\n",
    "\n",
    "    noise_scale : float\n",
    "        The standard deviation of the Gaussian noise \n",
    "        Default, 1e-2\n",
    "\n",
    "    Returns\n",
    "    -------\n",
    "    x : floats or numpy array of floats\n",
    "        Returns the signal with noise. Size is the same as the input t\n",
    "    '''\n",
    "    n = np.arange(0, 1 + (f1-f0)/N)\n",
    "    display('Frequencies', f0+n*N)\n",
    "    epsilon = np.random.normal(loc = 0.0, scale = noise_scale, size=len(t))\n",
    "    x = np.asarray([ np.sum( 1/(n+1) * np.sin(2 * np.pi * (f0+n*N) * tt))  for tt in t]) + epsilon\n",
    "    return x"
   ]
  },
  {
   "cell_type": "markdown",
   "metadata": {},
   "source": [
    "We can plot an example of the signal for 50 microseconds  using"
   ]
  },
  {
   "cell_type": "code",
   "execution_count": null,
   "metadata": {},
   "outputs": [],
   "source": [
    "f0 = 96e3 # Hz\n",
    "f1 = 104e3 # Hz "
   ]
  },
  {
   "cell_type": "markdown",
   "metadata": {},
   "source": [
    "and the parameters of the function."
   ]
  },
  {
   "cell_type": "code",
   "execution_count": null,
   "metadata": {},
   "outputs": [],
   "source": [
    "\n",
    "plt.figure()\n",
    "t = np.arange(0, 5e-2, 5e-7)\n",
    "plt.plot(t,signal(t, f0, f1)) # Plotting the function\n",
    "plt.xlabel(\"Time (s)\")\n",
    "plt.ylabel(\"x(t)\")\n",
    "plt.show()"
   ]
  },
  {
   "cell_type": "markdown",
   "metadata": {},
   "source": [
    "If we now sample this signal with bandpass filtering, what band should we use?\n",
    "\n",
    "Once you have figured out that, you can input the numbers below and sample the signal"
   ]
  },
  {
   "cell_type": "code",
   "execution_count": null,
   "metadata": {},
   "outputs": [],
   "source": [
    "fs = 16e3 # This is where you need to input the sampling rate\n",
    "N = int(5 * 0.01 * fs)  # The number of samples, 5 times the periode \n",
    "\n",
    "n = np.arange(N)\n",
    "\n",
    "xn = signal(n/fs, f0, f1)\n",
    "\n",
    "plt.figure()\n",
    "plt.stem(n, xn, linefmt = '--b', basefmt = 'k', use_line_collection = True)\n",
    "plt.xlabel('Time (n)')\n",
    "plt.ylabel('x(n)')\n",
    "plt.show()"
   ]
  },
  {
   "cell_type": "markdown",
   "metadata": {},
   "source": [
    "Or in seconds"
   ]
  },
  {
   "cell_type": "code",
   "execution_count": null,
   "metadata": {},
   "outputs": [],
   "source": [
    "plt.figure()\n",
    "plt.stem(n/fs, xn, linefmt = '--b', basefmt = 'k', use_line_collection = True)\n",
    "plt.xlabel('Time (s)')\n",
    "plt.ylabel('x(n)')\n",
    "plt.show()"
   ]
  },
  {
   "cell_type": "markdown",
   "metadata": {},
   "source": [
    "What does the sampled spectrum look like?\n",
    "\n",
    "To show this we need to use a tool, FFT,  that we will talk more about later"
   ]
  },
  {
   "cell_type": "code",
   "execution_count": null,
   "metadata": {},
   "outputs": [],
   "source": [
    "X = np.fft.fft(xn,  norm = 'ortho') # Taking the FFT\n",
    "f = np.fft.fftfreq(N, d = 1/fs) # Calculating the returned frequencies\n",
    "\n",
    "plt.figure()\n",
    "plt.plot(f, 20*np.log10(np.abs(X)))\n",
    "plt.xlabel('Frequency (Hz)')\n",
    "plt.ylabel('Magnitude (dB)')\n",
    "plt.show()"
   ]
  },
  {
   "cell_type": "markdown",
   "metadata": {},
   "source": [
    "Was that as expected? "
   ]
  },
  {
   "cell_type": "code",
   "execution_count": null,
   "metadata": {},
   "outputs": [],
   "source": [
    "fn = # What is the minimum sampling frequency for lowpass sampling?\n",
    "\n",
    "L = int(fn/fs)  # Interpolation factor \n",
    "display('Interpolation factor', L )\n",
    "x_int = np.zeros( len(xn) * L ) # make a zero vector with L times the length of x\n",
    "x_int[::L] = xn # Fill inn every Lth sample with one from xn\n",
    "\n",
    "X_int = np.fft.fft(x_int,  norm = 'ortho') # Taking the FFT\n",
    "f_int = np.fft.fftfreq(N*L, d = 1/(L*fs)) # Calculating the returned frequencies\n",
    "\n",
    "plt.figure()\n",
    "plt.plot(f_int, 20*np.log10(np.abs(X_int)))\n",
    "plt.xlabel('Frequency (Hz)')\n",
    "plt.ylabel('Magnitude (dB)')\n",
    "plt.show()\n"
   ]
  },
  {
   "cell_type": "markdown",
   "metadata": {},
   "source": [
    "We could now filter the interpolated samples to only get the bandwidth we had"
   ]
  },
  {
   "cell_type": "code",
   "execution_count": null,
   "metadata": {},
   "outputs": [],
   "source": [
    "import scipy.signal as signal # Signal processing library\n",
    "import scipy\n",
    "\n",
    "h = signal.firwin(71, # Number of taps\n",
    "                  cutoff = f0, # Cutoff frequency \n",
    "                  width = 8e3, # Width of filter\n",
    "                  window = 'hann', # window to use\n",
    "                  pass_zero = 'highpass', # type of filter\n",
    "                  scale = True,\n",
    "                  fs = fn) # Sampling frequency\n",
    "x_filt = signal.convolve(x_int,h,mode='valid')\n",
    "\n",
    "X_filt = np.fft.fft(x_filt,  norm = 'ortho') # Taking the FFT\n",
    "f_filt = np.fft.fftfreq(len(X_filt), d = 1/fn) # Calculating the returned frequencies\n",
    "\n",
    "# Clean the figure by shifting the arrays\n",
    "X_filt = scipy.fft.fftshift(X_filt)\n",
    "f_filt = scipy.fft.fftshift(f_filt)\n",
    "\n",
    "plt.figure()\n",
    "plt.plot(f_filt, 20*np.log10(np.abs(X_filt)))\n",
    "plt.xlabel('Frequency (Hz)')\n",
    "plt.ylabel('Magnitude (dB)')\n",
    "plt.show()\n"
   ]
  }
 ],
 "metadata": {
  "kernelspec": {
   "display_name": "Python 3 (ipykernel)",
   "language": "python",
   "name": "python3"
  },
  "language_info": {
   "codemirror_mode": {
    "name": "ipython",
    "version": 3
   },
   "file_extension": ".py",
   "mimetype": "text/x-python",
   "name": "python",
   "nbconvert_exporter": "python",
   "pygments_lexer": "ipython3"
  }
 },
 "nbformat": 4,
 "nbformat_minor": 4
}
