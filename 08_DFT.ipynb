{
 "cells": [
  {
   "cell_type": "markdown",
   "metadata": {},
   "source": [
    "# DFT\n",
    "\n",
    "In this notebook we are going to look at how one could implement a DFT\n",
    "and how it compares to a FFT.\n",
    "First we do the imports:"
   ]
  },
  {
   "cell_type": "code",
   "execution_count": null,
   "metadata": {},
   "outputs": [],
   "source": [
    "%matplotlib notebook\n",
    "from ipywidgets import *\n",
    "import numpy as np\n",
    "import matplotlib.pyplot as plt\n",
    "import time\n",
    "import scipy.signal as signal"
   ]
  },
  {
   "cell_type": "markdown",
   "metadata": {},
   "source": [
    "We are now going to implement the DFT which we remember is described by\n",
    "\n",
    "$$\n",
    "\\begin{align*}\n",
    "    X[m]=\\sum_{n=0}^{N-1} x[n]e^{-j2\\pi nm/N}\n",
    "\\end{align*}\n",
    "$$\n",
    "Below is a partially implemented function. Complete it"
   ]
  },
  {
   "cell_type": "code",
   "execution_count": null,
   "metadata": {},
   "outputs": [],
   "source": [
    "def DFT(x,N,fs):\n",
    "    '''\n",
    "    Method for taking a DFT of a discrete signal\n",
    "    \n",
    "    Parameters\n",
    "    ----------\n",
    "    x: numpy array\n",
    "       the discrete signal\n",
    "\n",
    "    N: int\n",
    "       number of points in DFT\n",
    "\n",
    "    fs: float\n",
    "        the sampling frequency in Hz\n",
    "    \n",
    "    Returns\n",
    "    ----------\n",
    "    X: numpy array\n",
    "        the DFT of the discrete signal\n",
    "\n",
    "    f: numpy array\n",
    "        the frequencies of each step in the DFT\n",
    "    '''               \n",
    "    # We first construct the for loop for the sum\n",
    "    X = np.zeros(N,dtype=np.complex) # For holding the DFT result\n",
    "    f = np.zeros(N,dtype=np.float) # For holding the frequencies\n",
    "    for m in range(N):\n",
    "        for n in range(N): # Not N-1 as range gives out 0 to N-1\n",
    "            # e = np.exp()\n",
    "            # j = 1j\n",
    "            # pi = np.pi\n",
    "            # x[n] = x[n]\n",
    "        f[m] = #\n",
    "\n",
    "    return X, f \n",
    "    "
   ]
  },
  {
   "cell_type": "markdown",
   "metadata": {},
   "source": [
    "## Testing the DFT\n",
    "\n",
    "We now want to test the DFT. By taking the 8 point DFT of \n",
    "$$\n",
    "\\begin{align*}\n",
    "    x(t)=\\sin(2\\pi 2t)\n",
    "\\end{align*}\n",
    "$$\n",
    "sampled at $f_s=8$~Hz\n",
    "\n",
    "Make the discrete series:"
   ]
  },
  {
   "cell_type": "code",
   "execution_count": null,
   "metadata": {},
   "outputs": [],
   "source": [
    "\n",
    "N=8\n",
    "fs = 8 # Hz\n",
    "ts=1/fs\n",
    "n = np.arange(0,N,1) # number of steps in the discrete series\n",
    "\n",
    "x = np.sin(2*np.pi*2*n*ts)\n"
   ]
  },
  {
   "cell_type": "markdown",
   "metadata": {},
   "source": [
    "Take the DFT"
   ]
  },
  {
   "cell_type": "code",
   "execution_count": null,
   "metadata": {},
   "outputs": [],
   "source": [
    "X, f = DFT(x,N,fs)\n",
    "print('X[m]',X)\n",
    "print('f',f)\n"
   ]
  },
  {
   "cell_type": "markdown",
   "metadata": {},
   "source": [
    "As can be seen the result is complex. We can plot the magnitude of the response."
   ]
  },
  {
   "cell_type": "code",
   "execution_count": null,
   "metadata": {},
   "outputs": [],
   "source": [
    "plt.figure()\n",
    "plt.plot(f,np.abs(X),'o')\n",
    "plt.xlabel('Frequency (Hz)')\n",
    "plt.ylabel('Magnitude')\n",
    "plt.show()"
   ]
  },
  {
   "cell_type": "markdown",
   "metadata": {},
   "source": [
    "Now try you own version by changing the number of points, sampling frequency, etc.\n",
    "\n",
    "### How fast does the DFT run?\n",
    "We now make a swept cosine signal"
   ]
  },
  {
   "cell_type": "code",
   "execution_count": null,
   "metadata": {},
   "outputs": [],
   "source": [
    "N=2**12\n",
    "fs = 200 # Hz\n",
    "ts = 1/fs\n",
    "n = np.arange(0,N,1) # number of steps in the discrete series\n",
    "t = n*ts - (N*ts/2) # The time \n",
    "x = signal.sweep_poly(t,[0.4,3]) # The swept cosine\n",
    "\n",
    "plt.figure()\n",
    "plt.plot(t,x,'.')\n",
    "plt.xlabel('Time (s)')\n",
    "plt.ylabel('Amplitude')\n",
    "plt.show()\n"
   ]
  },
  {
   "cell_type": "markdown",
   "metadata": {},
   "source": [
    "Time the DFT"
   ]
  },
  {
   "cell_type": "code",
   "execution_count": null,
   "metadata": {},
   "outputs": [],
   "source": [
    "start = time.process_time()\n",
    "X, f = DFT(x,N,fs)\n",
    "end = time.process_time()\n",
    "print(end-start)"
   ]
  },
  {
   "cell_type": "markdown",
   "metadata": {},
   "source": [
    "Which is not very fast.\n",
    "The results look like this"
   ]
  },
  {
   "cell_type": "code",
   "execution_count": null,
   "metadata": {},
   "outputs": [],
   "source": [
    "plt.figure()\n",
    "plt.plot(f,np.abs(X),'o')\n",
    "plt.xlabel('Frequency (Hz)')\n",
    "plt.ylabel('Magnitude')\n",
    "plt.show()"
   ]
  },
  {
   "cell_type": "markdown",
   "metadata": {},
   "source": [
    "What can we do to speed up the process?\n",
    "\n",
    "### FFT"
   ]
  },
  {
   "cell_type": "code",
   "execution_count": null,
   "metadata": {},
   "outputs": [],
   "source": [
    "start = time.process_time()\n",
    "X_fft = np.fft.fft(x, n=N,norm='ortho')        # FFT\n",
    "end = time.process_time()\n",
    "print('Run time (s)',end-start)"
   ]
  },
  {
   "cell_type": "code",
   "execution_count": null,
   "metadata": {},
   "outputs": [],
   "source": [
    "f = np.fft.fftfreq(N,1/fs)\n",
    "\n",
    "plt.figure()\n",
    "plt.plot(f,np.abs(X_fft),'o')\n",
    "plt.xlabel('Frequency (Hz)')\n",
    "plt.ylabel('Magnitude')\n",
    "plt.show()"
   ]
  },
  {
   "cell_type": "markdown",
   "metadata": {},
   "source": [
    "The FFT function in numpy handles $n\\neq2^b$, but then it is calculating the DFT with a less efficient algorithm, so we can try to time it with $N'=N-1$ and see the difference in time"
   ]
  },
  {
   "cell_type": "code",
   "execution_count": null,
   "metadata": {},
   "outputs": [],
   "source": [
    "start = time.process_time()\n",
    "X_fft = np.fft.fft(x[:-1], n=N-1,norm='ortho')        # DFT \n",
    "end = time.process_time()\n",
    "print('Run time (s)',end-start)"
   ]
  },
  {
   "cell_type": "code",
   "execution_count": null,
   "metadata": {},
   "outputs": [],
   "source": []
  }
 ],
 "metadata": {
  "kernelspec": {
   "display_name": "Python 3",
   "language": "python",
   "name": "python3"
  },
  "language_info": {
   "codemirror_mode": {
    "name": "ipython",
    "version": 3
   },
   "file_extension": ".py",
   "mimetype": "text/x-python",
   "name": "python",
   "nbconvert_exporter": "python",
   "pygments_lexer": "ipython3"
  }
 },
 "nbformat": 4,
 "nbformat_minor": 4
}
